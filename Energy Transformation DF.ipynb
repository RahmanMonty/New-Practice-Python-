{
 "cells": [
  {
   "cell_type": "code",
   "execution_count": null,
   "metadata": {},
   "outputs": [],
   "source": []
  },
  {
   "cell_type": "code",
   "execution_count": 32,
   "metadata": {},
   "outputs": [],
   "source": [
    "import pandas as pd\n",
    "from datetime import datetime\n",
    "import matplotlib.pyplot as plt\n",
    "import seaborn as sns ; sns.set()"
   ]
  },
  {
   "cell_type": "code",
   "execution_count": 5,
   "metadata": {},
   "outputs": [],
   "source": [
    "df1 = pd.read_csv(r\"C:\\Users\\rahma\\OneDrive\\Documents\\Monty Documents\\Data 601 Intro Data Science\\RollingSystemDemand_20201019_2227.csv\")\n",
    "df2 = pd.read_csv(r\"C:\\Users\\rahma\\OneDrive\\Documents\\Monty Documents\\Data 601 Intro Data Science\\RollingSystemDemand_20201019_2200 (1).csv\")\n",
    "\n",
    "# Code based off of lecture notes"
   ]
  },
  {
   "cell_type": "code",
   "execution_count": 6,
   "metadata": {},
   "outputs": [
    {
     "data": {
      "text/html": [
       "<div>\n",
       "<style scoped>\n",
       "    .dataframe tbody tr th:only-of-type {\n",
       "        vertical-align: middle;\n",
       "    }\n",
       "\n",
       "    .dataframe tbody tr th {\n",
       "        vertical-align: top;\n",
       "    }\n",
       "\n",
       "    .dataframe thead th {\n",
       "        text-align: right;\n",
       "    }\n",
       "</style>\n",
       "<table border=\"1\" class=\"dataframe\">\n",
       "  <thead>\n",
       "    <tr style=\"text-align: right;\">\n",
       "      <th></th>\n",
       "      <th>HDR</th>\n",
       "      <th>ROLLING SYSTEM DEMAND</th>\n",
       "    </tr>\n",
       "  </thead>\n",
       "  <tbody>\n",
       "    <tr>\n",
       "      <td>0</td>\n",
       "      <td>20201001000000</td>\n",
       "      <td>24475.0</td>\n",
       "    </tr>\n",
       "    <tr>\n",
       "      <td>1</td>\n",
       "      <td>20201001000500</td>\n",
       "      <td>24741.0</td>\n",
       "    </tr>\n",
       "    <tr>\n",
       "      <td>2</td>\n",
       "      <td>20201001001000</td>\n",
       "      <td>24715.0</td>\n",
       "    </tr>\n",
       "    <tr>\n",
       "      <td>3</td>\n",
       "      <td>20201001001500</td>\n",
       "      <td>24652.0</td>\n",
       "    </tr>\n",
       "    <tr>\n",
       "      <td>4</td>\n",
       "      <td>20201001002000</td>\n",
       "      <td>24704.0</td>\n",
       "    </tr>\n",
       "  </tbody>\n",
       "</table>\n",
       "</div>"
      ],
      "text/plain": [
       "              HDR  ROLLING SYSTEM DEMAND\n",
       "0  20201001000000                24475.0\n",
       "1  20201001000500                24741.0\n",
       "2  20201001001000                24715.0\n",
       "3  20201001001500                24652.0\n",
       "4  20201001002000                24704.0"
      ]
     },
     "execution_count": 6,
     "metadata": {},
     "output_type": "execute_result"
    }
   ],
   "source": [
    "df1.index=range(len(df1))\n",
    "df2.index=range(len(df2))\n",
    "df1.head()"
   ]
  },
  {
   "cell_type": "code",
   "execution_count": 7,
   "metadata": {},
   "outputs": [
    {
     "data": {
      "text/html": [
       "<div>\n",
       "<style scoped>\n",
       "    .dataframe tbody tr th:only-of-type {\n",
       "        vertical-align: middle;\n",
       "    }\n",
       "\n",
       "    .dataframe tbody tr th {\n",
       "        vertical-align: top;\n",
       "    }\n",
       "\n",
       "    .dataframe thead th {\n",
       "        text-align: right;\n",
       "    }\n",
       "</style>\n",
       "<table border=\"1\" class=\"dataframe\">\n",
       "  <thead>\n",
       "    <tr style=\"text-align: right;\">\n",
       "      <th></th>\n",
       "      <th>HDR</th>\n",
       "      <th>ROLLING SYSTEM DEMAND</th>\n",
       "    </tr>\n",
       "  </thead>\n",
       "  <tbody>\n",
       "    <tr>\n",
       "      <td>0</td>\n",
       "      <td>20201006000000</td>\n",
       "      <td>22399.0</td>\n",
       "    </tr>\n",
       "    <tr>\n",
       "      <td>1</td>\n",
       "      <td>20201006000500</td>\n",
       "      <td>22617.0</td>\n",
       "    </tr>\n",
       "    <tr>\n",
       "      <td>2</td>\n",
       "      <td>20201006001000</td>\n",
       "      <td>22625.0</td>\n",
       "    </tr>\n",
       "    <tr>\n",
       "      <td>3</td>\n",
       "      <td>20201006001500</td>\n",
       "      <td>22618.0</td>\n",
       "    </tr>\n",
       "    <tr>\n",
       "      <td>4</td>\n",
       "      <td>20201006002000</td>\n",
       "      <td>22604.0</td>\n",
       "    </tr>\n",
       "  </tbody>\n",
       "</table>\n",
       "</div>"
      ],
      "text/plain": [
       "              HDR  ROLLING SYSTEM DEMAND\n",
       "0  20201006000000                22399.0\n",
       "1  20201006000500                22617.0\n",
       "2  20201006001000                22625.0\n",
       "3  20201006001500                22618.0\n",
       "4  20201006002000                22604.0"
      ]
     },
     "execution_count": 7,
     "metadata": {},
     "output_type": "execute_result"
    }
   ],
   "source": [
    "df2.head()"
   ]
  },
  {
   "cell_type": "code",
   "execution_count": 8,
   "metadata": {},
   "outputs": [],
   "source": [
    "df1.columns=['time of measurement','demand level']\n",
    "df2.columns=['time of measurement','demand level']"
   ]
  },
  {
   "cell_type": "code",
   "execution_count": 9,
   "metadata": {},
   "outputs": [
    {
     "data": {
      "text/html": [
       "<div>\n",
       "<style scoped>\n",
       "    .dataframe tbody tr th:only-of-type {\n",
       "        vertical-align: middle;\n",
       "    }\n",
       "\n",
       "    .dataframe tbody tr th {\n",
       "        vertical-align: top;\n",
       "    }\n",
       "\n",
       "    .dataframe thead th {\n",
       "        text-align: right;\n",
       "    }\n",
       "</style>\n",
       "<table border=\"1\" class=\"dataframe\">\n",
       "  <thead>\n",
       "    <tr style=\"text-align: right;\">\n",
       "      <th></th>\n",
       "      <th>time of measurement</th>\n",
       "      <th>demand level</th>\n",
       "    </tr>\n",
       "  </thead>\n",
       "  <tbody>\n",
       "    <tr>\n",
       "      <td>0</td>\n",
       "      <td>20201001000000</td>\n",
       "      <td>24475.0</td>\n",
       "    </tr>\n",
       "    <tr>\n",
       "      <td>1</td>\n",
       "      <td>20201001000500</td>\n",
       "      <td>24741.0</td>\n",
       "    </tr>\n",
       "    <tr>\n",
       "      <td>2</td>\n",
       "      <td>20201001001000</td>\n",
       "      <td>24715.0</td>\n",
       "    </tr>\n",
       "    <tr>\n",
       "      <td>3</td>\n",
       "      <td>20201001001500</td>\n",
       "      <td>24652.0</td>\n",
       "    </tr>\n",
       "    <tr>\n",
       "      <td>4</td>\n",
       "      <td>20201001002000</td>\n",
       "      <td>24704.0</td>\n",
       "    </tr>\n",
       "  </tbody>\n",
       "</table>\n",
       "</div>"
      ],
      "text/plain": [
       "   time of measurement  demand level\n",
       "0       20201001000000       24475.0\n",
       "1       20201001000500       24741.0\n",
       "2       20201001001000       24715.0\n",
       "3       20201001001500       24652.0\n",
       "4       20201001002000       24704.0"
      ]
     },
     "execution_count": 9,
     "metadata": {},
     "output_type": "execute_result"
    }
   ],
   "source": [
    "df1.head()"
   ]
  },
  {
   "cell_type": "code",
   "execution_count": 10,
   "metadata": {},
   "outputs": [
    {
     "data": {
      "image/png": "[encoded data removed]",
      "text/plain": [
       "<Figure size 432x288 with 1 Axes>"
      ]
     },
     "metadata": {
      "needs_background": "light"
     },
     "output_type": "display_data"
    }
   ],
   "source": [
    "# graphing results via scatter plot\n",
    "\n",
    "plt.scatter(df1['time of measurement'], df1['demand level'])\n",
    "plt.show()"
   ]
  },
  {
   "cell_type": "code",
   "execution_count": 11,
   "metadata": {},
   "outputs": [
    {
     "data": {
      "text/plain": [
       "0      2020-10-01 00:00:00\n",
       "1      2020-10-01 00:05:00\n",
       "2      2020-10-01 00:10:00\n",
       "3      2020-10-01 00:15:00\n",
       "4      2020-10-01 00:20:00\n",
       "               ...        \n",
       "1436   2020-10-05 23:40:00\n",
       "1437   2020-10-05 23:45:00\n",
       "1438   2020-10-05 23:50:00\n",
       "1439   2020-10-05 23:55:00\n",
       "1440                   NaT\n",
       "Name: time of measurement, Length: 1441, dtype: datetime64[ns]"
      ]
     },
     "execution_count": 11,
     "metadata": {},
     "output_type": "execute_result"
    }
   ],
   "source": [
    "pd.to_datetime(df1['time of measurement'],format='%Y%m%d%H%M%S',errors=\"coerce\")"
   ]
  },
  {
   "cell_type": "code",
   "execution_count": 12,
   "metadata": {},
   "outputs": [
    {
     "data": {
      "text/plain": [
       "0      2020-10-06 00:00:00\n",
       "1      2020-10-06 00:05:00\n",
       "2      2020-10-06 00:10:00\n",
       "3      2020-10-06 00:15:00\n",
       "4      2020-10-06 00:20:00\n",
       "               ...        \n",
       "1436   2020-10-10 23:40:00\n",
       "1437   2020-10-10 23:45:00\n",
       "1438   2020-10-10 23:50:00\n",
       "1439   2020-10-10 23:55:00\n",
       "1440                   NaT\n",
       "Name: time of measurement, Length: 1441, dtype: datetime64[ns]"
      ]
     },
     "execution_count": 12,
     "metadata": {},
     "output_type": "execute_result"
    }
   ],
   "source": [
    "pd.to_datetime(df2['time of measurement'],format='%Y%m%d%H%M%S',errors=\"coerce\")"
   ]
  },
  {
   "cell_type": "code",
   "execution_count": 14,
   "metadata": {},
   "outputs": [
    {
     "data": {
      "text/html": [
       "<div>\n",
       "<style scoped>\n",
       "    .dataframe tbody tr th:only-of-type {\n",
       "        vertical-align: middle;\n",
       "    }\n",
       "\n",
       "    .dataframe tbody tr th {\n",
       "        vertical-align: top;\n",
       "    }\n",
       "\n",
       "    .dataframe thead th {\n",
       "        text-align: right;\n",
       "    }\n",
       "</style>\n",
       "<table border=\"1\" class=\"dataframe\">\n",
       "  <thead>\n",
       "    <tr style=\"text-align: right;\">\n",
       "      <th></th>\n",
       "      <th>0</th>\n",
       "      <th>1</th>\n",
       "      <th>2</th>\n",
       "    </tr>\n",
       "  </thead>\n",
       "  <tbody>\n",
       "    <tr>\n",
       "      <td>0</td>\n",
       "      <td>VD</td>\n",
       "      <td>20201001000000</td>\n",
       "      <td>24475</td>\n",
       "    </tr>\n",
       "    <tr>\n",
       "      <td>1</td>\n",
       "      <td>VD</td>\n",
       "      <td>20201001000500</td>\n",
       "      <td>24741</td>\n",
       "    </tr>\n",
       "    <tr>\n",
       "      <td>2</td>\n",
       "      <td>VD</td>\n",
       "      <td>20201001001000</td>\n",
       "      <td>24715</td>\n",
       "    </tr>\n",
       "    <tr>\n",
       "      <td>3</td>\n",
       "      <td>VD</td>\n",
       "      <td>20201001001500</td>\n",
       "      <td>24652</td>\n",
       "    </tr>\n",
       "    <tr>\n",
       "      <td>4</td>\n",
       "      <td>VD</td>\n",
       "      <td>20201001002000</td>\n",
       "      <td>24704</td>\n",
       "    </tr>\n",
       "  </tbody>\n",
       "</table>\n",
       "</div>"
      ],
      "text/plain": [
       "    0               1      2\n",
       "0  VD  20201001000000  24475\n",
       "1  VD  20201001000500  24741\n",
       "2  VD  20201001001000  24715\n",
       "3  VD  20201001001500  24652\n",
       "4  VD  20201001002000  24704"
      ]
     },
     "execution_count": 14,
     "metadata": {},
     "output_type": "execute_result"
    }
   ],
   "source": [
    "# Going past the first row in the csv file\n",
    "\n",
    "df1 = pd.read_csv(r\"C:\\Users\\rahma\\OneDrive\\Documents\\Monty Documents\\Data 601 Intro Data Science\\RollingSystemDemand_20201019_2227.csv\",\n",
    "                         index_col=False,\n",
    "                         skiprows=1,\n",
    "                         skipfooter=1, engine='python',\n",
    "                         header=None)\n",
    "df1.head()"
   ]
  },
  {
   "cell_type": "code",
   "execution_count": 19,
   "metadata": {},
   "outputs": [
    {
     "data": {
      "text/html": [
       "<div>\n",
       "<style scoped>\n",
       "    .dataframe tbody tr th:only-of-type {\n",
       "        vertical-align: middle;\n",
       "    }\n",
       "\n",
       "    .dataframe tbody tr th {\n",
       "        vertical-align: top;\n",
       "    }\n",
       "\n",
       "    .dataframe thead th {\n",
       "        text-align: right;\n",
       "    }\n",
       "</style>\n",
       "<table border=\"1\" class=\"dataframe\">\n",
       "  <thead>\n",
       "    <tr style=\"text-align: right;\">\n",
       "      <th></th>\n",
       "      <th>0</th>\n",
       "      <th>1</th>\n",
       "      <th>2</th>\n",
       "    </tr>\n",
       "  </thead>\n",
       "  <tbody>\n",
       "    <tr>\n",
       "      <td>0</td>\n",
       "      <td>VD</td>\n",
       "      <td>20201006000000</td>\n",
       "      <td>22399</td>\n",
       "    </tr>\n",
       "    <tr>\n",
       "      <td>1</td>\n",
       "      <td>VD</td>\n",
       "      <td>20201006000500</td>\n",
       "      <td>22617</td>\n",
       "    </tr>\n",
       "    <tr>\n",
       "      <td>2</td>\n",
       "      <td>VD</td>\n",
       "      <td>20201006001000</td>\n",
       "      <td>22625</td>\n",
       "    </tr>\n",
       "    <tr>\n",
       "      <td>3</td>\n",
       "      <td>VD</td>\n",
       "      <td>20201006001500</td>\n",
       "      <td>22618</td>\n",
       "    </tr>\n",
       "    <tr>\n",
       "      <td>4</td>\n",
       "      <td>VD</td>\n",
       "      <td>20201006002000</td>\n",
       "      <td>22604</td>\n",
       "    </tr>\n",
       "  </tbody>\n",
       "</table>\n",
       "</div>"
      ],
      "text/plain": [
       "    0               1      2\n",
       "0  VD  20201006000000  22399\n",
       "1  VD  20201006000500  22617\n",
       "2  VD  20201006001000  22625\n",
       "3  VD  20201006001500  22618\n",
       "4  VD  20201006002000  22604"
      ]
     },
     "execution_count": 19,
     "metadata": {},
     "output_type": "execute_result"
    }
   ],
   "source": [
    "df2 = pd.read_csv(r\"C:\\Users\\rahma\\OneDrive\\Documents\\Monty Documents\\Data 601 Intro Data Science\\RollingSystemDemand_20201019_2200 (1).csv\",\n",
    "                         index_col=False,\n",
    "                         skiprows=1,\n",
    "                         skipfooter=1, engine='python',\n",
    "                         header=None)\n",
    "df2.head()"
   ]
  },
  {
   "cell_type": "code",
   "execution_count": 20,
   "metadata": {},
   "outputs": [
    {
     "data": {
      "text/html": [
       "<div>\n",
       "<style scoped>\n",
       "    .dataframe tbody tr th:only-of-type {\n",
       "        vertical-align: middle;\n",
       "    }\n",
       "\n",
       "    .dataframe tbody tr th {\n",
       "        vertical-align: top;\n",
       "    }\n",
       "\n",
       "    .dataframe thead th {\n",
       "        text-align: right;\n",
       "    }\n",
       "</style>\n",
       "<table border=\"1\" class=\"dataframe\">\n",
       "  <thead>\n",
       "    <tr style=\"text-align: right;\">\n",
       "      <th></th>\n",
       "      <th>VD</th>\n",
       "      <th>time of measurement</th>\n",
       "      <th>value</th>\n",
       "    </tr>\n",
       "  </thead>\n",
       "  <tbody>\n",
       "    <tr>\n",
       "      <td>0</td>\n",
       "      <td>VD</td>\n",
       "      <td>20201001000000</td>\n",
       "      <td>24475</td>\n",
       "    </tr>\n",
       "    <tr>\n",
       "      <td>1</td>\n",
       "      <td>VD</td>\n",
       "      <td>20201001000500</td>\n",
       "      <td>24741</td>\n",
       "    </tr>\n",
       "    <tr>\n",
       "      <td>2</td>\n",
       "      <td>VD</td>\n",
       "      <td>20201001001000</td>\n",
       "      <td>24715</td>\n",
       "    </tr>\n",
       "    <tr>\n",
       "      <td>3</td>\n",
       "      <td>VD</td>\n",
       "      <td>20201001001500</td>\n",
       "      <td>24652</td>\n",
       "    </tr>\n",
       "    <tr>\n",
       "      <td>4</td>\n",
       "      <td>VD</td>\n",
       "      <td>20201001002000</td>\n",
       "      <td>24704</td>\n",
       "    </tr>\n",
       "  </tbody>\n",
       "</table>\n",
       "</div>"
      ],
      "text/plain": [
       "   VD  time of measurement  value\n",
       "0  VD       20201001000000  24475\n",
       "1  VD       20201001000500  24741\n",
       "2  VD       20201001001000  24715\n",
       "3  VD       20201001001500  24652\n",
       "4  VD       20201001002000  24704"
      ]
     },
     "execution_count": 20,
     "metadata": {},
     "output_type": "execute_result"
    }
   ],
   "source": [
    "# Renaming the headeres\n",
    "\n",
    "df1 = pd.read_csv(r\"C:\\Users\\rahma\\OneDrive\\Documents\\Monty Documents\\Data 601 Intro Data Science\\RollingSystemDemand_20201019_2227.csv\",\n",
    "                         index_col=False,\n",
    "                         skiprows=1,\n",
    "                         skipfooter=1,\n",
    "                         engine='python',\n",
    "                         header=None)\n",
    "\n",
    "df1.columns=['VD','time of measurement','value']\n",
    "\n",
    "df1.head()"
   ]
  },
  {
   "cell_type": "code",
   "execution_count": 21,
   "metadata": {},
   "outputs": [
    {
     "data": {
      "text/html": [
       "<div>\n",
       "<style scoped>\n",
       "    .dataframe tbody tr th:only-of-type {\n",
       "        vertical-align: middle;\n",
       "    }\n",
       "\n",
       "    .dataframe tbody tr th {\n",
       "        vertical-align: top;\n",
       "    }\n",
       "\n",
       "    .dataframe thead th {\n",
       "        text-align: right;\n",
       "    }\n",
       "</style>\n",
       "<table border=\"1\" class=\"dataframe\">\n",
       "  <thead>\n",
       "    <tr style=\"text-align: right;\">\n",
       "      <th></th>\n",
       "      <th>VD</th>\n",
       "      <th>time of measurement</th>\n",
       "      <th>value</th>\n",
       "    </tr>\n",
       "  </thead>\n",
       "  <tbody>\n",
       "    <tr>\n",
       "      <td>0</td>\n",
       "      <td>VD</td>\n",
       "      <td>20201006000000</td>\n",
       "      <td>22399</td>\n",
       "    </tr>\n",
       "    <tr>\n",
       "      <td>1</td>\n",
       "      <td>VD</td>\n",
       "      <td>20201006000500</td>\n",
       "      <td>22617</td>\n",
       "    </tr>\n",
       "    <tr>\n",
       "      <td>2</td>\n",
       "      <td>VD</td>\n",
       "      <td>20201006001000</td>\n",
       "      <td>22625</td>\n",
       "    </tr>\n",
       "    <tr>\n",
       "      <td>3</td>\n",
       "      <td>VD</td>\n",
       "      <td>20201006001500</td>\n",
       "      <td>22618</td>\n",
       "    </tr>\n",
       "    <tr>\n",
       "      <td>4</td>\n",
       "      <td>VD</td>\n",
       "      <td>20201006002000</td>\n",
       "      <td>22604</td>\n",
       "    </tr>\n",
       "  </tbody>\n",
       "</table>\n",
       "</div>"
      ],
      "text/plain": [
       "   VD  time of measurement  value\n",
       "0  VD       20201006000000  22399\n",
       "1  VD       20201006000500  22617\n",
       "2  VD       20201006001000  22625\n",
       "3  VD       20201006001500  22618\n",
       "4  VD       20201006002000  22604"
      ]
     },
     "execution_count": 21,
     "metadata": {},
     "output_type": "execute_result"
    }
   ],
   "source": [
    "df2 = pd.read_csv(r\"C:\\Users\\rahma\\OneDrive\\Documents\\Monty Documents\\Data 601 Intro Data Science\\RollingSystemDemand_20201019_2200 (1).csv\",\n",
    "                         index_col=False,\n",
    "                         skiprows=1,\n",
    "                         skipfooter=1,\n",
    "                         engine='python',\n",
    "                         header=None)\n",
    "\n",
    "df2.columns=['VD','time of measurement','value']\n",
    "\n",
    "df2.head()"
   ]
  },
  {
   "cell_type": "code",
   "execution_count": 22,
   "metadata": {},
   "outputs": [],
   "source": [
    "df1['time of measurement']=pd.to_datetime(\n",
    "                                  df1['time of measurement'].astype(str),\n",
    "                                  format='%Y%m%d%H%M%S')"
   ]
  },
  {
   "cell_type": "code",
   "execution_count": 23,
   "metadata": {},
   "outputs": [],
   "source": [
    "df2['time of measurement']=pd.to_datetime(df2['time of measurement'].astype(str), format='%Y%m%d%H%M%S')"
   ]
  },
  {
   "cell_type": "code",
   "execution_count": 24,
   "metadata": {},
   "outputs": [],
   "source": [
    "# concatinating the seperate data frames into one \n",
    "\n",
    "all = [df1, df2]\n",
    "df3 = pd.concat(all)"
   ]
  },
  {
   "cell_type": "code",
   "execution_count": 25,
   "metadata": {},
   "outputs": [
    {
     "data": {
      "text/plain": [
       "<bound method NDFrame.head of       VD time of measurement  value\n",
       "0     VD 2020-10-01 00:00:00  24475\n",
       "1     VD 2020-10-01 00:05:00  24741\n",
       "2     VD 2020-10-01 00:10:00  24715\n",
       "3     VD 2020-10-01 00:15:00  24652\n",
       "4     VD 2020-10-01 00:20:00  24704\n",
       "...   ..                 ...    ...\n",
       "1435  VD 2020-10-10 23:35:00  21919\n",
       "1436  VD 2020-10-10 23:40:00  21804\n",
       "1437  VD 2020-10-10 23:45:00  21734\n",
       "1438  VD 2020-10-10 23:50:00  21665\n",
       "1439  VD 2020-10-10 23:55:00  21658\n",
       "\n",
       "[2880 rows x 3 columns]>"
      ]
     },
     "execution_count": 25,
     "metadata": {},
     "output_type": "execute_result"
    }
   ],
   "source": [
    "df3.head"
   ]
  },
  {
   "cell_type": "code",
   "execution_count": 26,
   "metadata": {},
   "outputs": [
    {
     "data": {
      "text/html": [
       "<div>\n",
       "<style scoped>\n",
       "    .dataframe tbody tr th:only-of-type {\n",
       "        vertical-align: middle;\n",
       "    }\n",
       "\n",
       "    .dataframe tbody tr th {\n",
       "        vertical-align: top;\n",
       "    }\n",
       "\n",
       "    .dataframe thead th {\n",
       "        text-align: right;\n",
       "    }\n",
       "</style>\n",
       "<table border=\"1\" class=\"dataframe\">\n",
       "  <thead>\n",
       "    <tr style=\"text-align: right;\">\n",
       "      <th></th>\n",
       "      <th>VD</th>\n",
       "      <th>time of measurement</th>\n",
       "      <th>value</th>\n",
       "    </tr>\n",
       "  </thead>\n",
       "  <tbody>\n",
       "    <tr>\n",
       "      <td>0</td>\n",
       "      <td>VD</td>\n",
       "      <td>2020-10-01 00:00:00</td>\n",
       "      <td>24475</td>\n",
       "    </tr>\n",
       "    <tr>\n",
       "      <td>1</td>\n",
       "      <td>VD</td>\n",
       "      <td>2020-10-01 00:05:00</td>\n",
       "      <td>24741</td>\n",
       "    </tr>\n",
       "    <tr>\n",
       "      <td>2</td>\n",
       "      <td>VD</td>\n",
       "      <td>2020-10-01 00:10:00</td>\n",
       "      <td>24715</td>\n",
       "    </tr>\n",
       "    <tr>\n",
       "      <td>3</td>\n",
       "      <td>VD</td>\n",
       "      <td>2020-10-01 00:15:00</td>\n",
       "      <td>24652</td>\n",
       "    </tr>\n",
       "    <tr>\n",
       "      <td>4</td>\n",
       "      <td>VD</td>\n",
       "      <td>2020-10-01 00:20:00</td>\n",
       "      <td>24704</td>\n",
       "    </tr>\n",
       "  </tbody>\n",
       "</table>\n",
       "</div>"
      ],
      "text/plain": [
       "   VD time of measurement  value\n",
       "0  VD 2020-10-01 00:00:00  24475\n",
       "1  VD 2020-10-01 00:05:00  24741\n",
       "2  VD 2020-10-01 00:10:00  24715\n",
       "3  VD 2020-10-01 00:15:00  24652\n",
       "4  VD 2020-10-01 00:20:00  24704"
      ]
     },
     "execution_count": 26,
     "metadata": {},
     "output_type": "execute_result"
    }
   ],
   "source": [
    "df3.head()"
   ]
  },
  {
   "cell_type": "code",
   "execution_count": 27,
   "metadata": {},
   "outputs": [
    {
     "name": "stderr",
     "output_type": "stream",
     "text": [
      "C:\\Users\\rahma\\Anaconda3\\lib\\site-packages\\pandas\\plotting\\_matplotlib\\converter.py:103: FutureWarning: Using an implicitly registered datetime converter for a matplotlib plotting method. The converter was registered by pandas on import. Future versions of pandas will require you to explicitly register matplotlib converters.\n",
      "\n",
      "To register the converters:\n",
      "\t>>> from pandas.plotting import register_matplotlib_converters\n",
      "\t>>> register_matplotlib_converters()\n",
      "  warnings.warn(msg, FutureWarning)\n"
     ]
    },
    {
     "data": {
      "image/png": "[encoded data removed]",
      "text/plain": [
       "<Figure size 432x288 with 1 Axes>"
      ]
     },
     "metadata": {
      "needs_background": "light"
     },
     "output_type": "display_data"
    }
   ],
   "source": [
    "plt.plot_date(df3['time of measurement'], df3['value'])\n",
    "plt.xticks(rotation='vertical')\n",
    "plt.tick_params(labelsize=14)\n",
    "plt.xlabel('date',fontsize=14)\n",
    "plt.ylabel('demand [MegaWatts]',fontsize=14)\n",
    "plt.show()"
   ]
  },
  {
   "cell_type": "code",
   "execution_count": 28,
   "metadata": {},
   "outputs": [
    {
     "data": {
      "text/html": [
       "<div>\n",
       "<style scoped>\n",
       "    .dataframe tbody tr th:only-of-type {\n",
       "        vertical-align: middle;\n",
       "    }\n",
       "\n",
       "    .dataframe tbody tr th {\n",
       "        vertical-align: top;\n",
       "    }\n",
       "\n",
       "    .dataframe thead th {\n",
       "        text-align: right;\n",
       "    }\n",
       "</style>\n",
       "<table border=\"1\" class=\"dataframe\">\n",
       "  <thead>\n",
       "    <tr style=\"text-align: right;\">\n",
       "      <th></th>\n",
       "      <th>VD</th>\n",
       "      <th>value</th>\n",
       "    </tr>\n",
       "    <tr>\n",
       "      <th>time of measurement</th>\n",
       "      <th></th>\n",
       "      <th></th>\n",
       "    </tr>\n",
       "  </thead>\n",
       "  <tbody>\n",
       "    <tr>\n",
       "      <td>2020-10-01 00:00:00</td>\n",
       "      <td>VD</td>\n",
       "      <td>24475</td>\n",
       "    </tr>\n",
       "    <tr>\n",
       "      <td>2020-10-01 00:05:00</td>\n",
       "      <td>VD</td>\n",
       "      <td>24741</td>\n",
       "    </tr>\n",
       "    <tr>\n",
       "      <td>2020-10-01 00:10:00</td>\n",
       "      <td>VD</td>\n",
       "      <td>24715</td>\n",
       "    </tr>\n",
       "    <tr>\n",
       "      <td>2020-10-01 00:15:00</td>\n",
       "      <td>VD</td>\n",
       "      <td>24652</td>\n",
       "    </tr>\n",
       "    <tr>\n",
       "      <td>2020-10-01 00:20:00</td>\n",
       "      <td>VD</td>\n",
       "      <td>24704</td>\n",
       "    </tr>\n",
       "    <tr>\n",
       "      <td>...</td>\n",
       "      <td>...</td>\n",
       "      <td>...</td>\n",
       "    </tr>\n",
       "    <tr>\n",
       "      <td>2020-10-10 23:35:00</td>\n",
       "      <td>VD</td>\n",
       "      <td>21919</td>\n",
       "    </tr>\n",
       "    <tr>\n",
       "      <td>2020-10-10 23:40:00</td>\n",
       "      <td>VD</td>\n",
       "      <td>21804</td>\n",
       "    </tr>\n",
       "    <tr>\n",
       "      <td>2020-10-10 23:45:00</td>\n",
       "      <td>VD</td>\n",
       "      <td>21734</td>\n",
       "    </tr>\n",
       "    <tr>\n",
       "      <td>2020-10-10 23:50:00</td>\n",
       "      <td>VD</td>\n",
       "      <td>21665</td>\n",
       "    </tr>\n",
       "    <tr>\n",
       "      <td>2020-10-10 23:55:00</td>\n",
       "      <td>VD</td>\n",
       "      <td>21658</td>\n",
       "    </tr>\n",
       "  </tbody>\n",
       "</table>\n",
       "<p>2880 rows × 2 columns</p>\n",
       "</div>"
      ],
      "text/plain": [
       "                     VD  value\n",
       "time of measurement           \n",
       "2020-10-01 00:00:00  VD  24475\n",
       "2020-10-01 00:05:00  VD  24741\n",
       "2020-10-01 00:10:00  VD  24715\n",
       "2020-10-01 00:15:00  VD  24652\n",
       "2020-10-01 00:20:00  VD  24704\n",
       "...                  ..    ...\n",
       "2020-10-10 23:35:00  VD  21919\n",
       "2020-10-10 23:40:00  VD  21804\n",
       "2020-10-10 23:45:00  VD  21734\n",
       "2020-10-10 23:50:00  VD  21665\n",
       "2020-10-10 23:55:00  VD  21658\n",
       "\n",
       "[2880 rows x 2 columns]"
      ]
     },
     "execution_count": 28,
     "metadata": {},
     "output_type": "execute_result"
    }
   ],
   "source": [
    "df3.set_index(\"time of measurement\")"
   ]
  },
  {
   "cell_type": "code",
   "execution_count": 43,
   "metadata": {},
   "outputs": [],
   "source": [
    "df3[\"Hour\"] = df3[\"time of measurement\"].dt.hour\n"
   ]
  },
  {
   "cell_type": "code",
   "execution_count": 35,
   "metadata": {},
   "outputs": [],
   "source": [
    "df3[\"Day\"] = df3[\"time of measurement\"].dt.day"
   ]
  },
  {
   "cell_type": "code",
   "execution_count": null,
   "metadata": {},
   "outputs": [],
   "source": []
  },
  {
   "cell_type": "code",
   "execution_count": 57,
   "metadata": {},
   "outputs": [
    {
     "data": {
      "text/html": [
       "<div>\n",
       "<style scoped>\n",
       "    .dataframe tbody tr th:only-of-type {\n",
       "        vertical-align: middle;\n",
       "    }\n",
       "\n",
       "    .dataframe tbody tr th {\n",
       "        vertical-align: top;\n",
       "    }\n",
       "\n",
       "    .dataframe thead th {\n",
       "        text-align: right;\n",
       "    }\n",
       "</style>\n",
       "<table border=\"1\" class=\"dataframe\">\n",
       "  <thead>\n",
       "    <tr style=\"text-align: right;\">\n",
       "      <th></th>\n",
       "      <th>Hour</th>\n",
       "      <th>value</th>\n",
       "    </tr>\n",
       "  </thead>\n",
       "  <tbody>\n",
       "    <tr>\n",
       "      <td>0</td>\n",
       "      <td>0</td>\n",
       "      <td>24475</td>\n",
       "    </tr>\n",
       "    <tr>\n",
       "      <td>1</td>\n",
       "      <td>0</td>\n",
       "      <td>24741</td>\n",
       "    </tr>\n",
       "    <tr>\n",
       "      <td>2</td>\n",
       "      <td>0</td>\n",
       "      <td>24715</td>\n",
       "    </tr>\n",
       "    <tr>\n",
       "      <td>3</td>\n",
       "      <td>0</td>\n",
       "      <td>24652</td>\n",
       "    </tr>\n",
       "    <tr>\n",
       "      <td>4</td>\n",
       "      <td>0</td>\n",
       "      <td>24704</td>\n",
       "    </tr>\n",
       "    <tr>\n",
       "      <td>...</td>\n",
       "      <td>...</td>\n",
       "      <td>...</td>\n",
       "    </tr>\n",
       "    <tr>\n",
       "      <td>1435</td>\n",
       "      <td>23</td>\n",
       "      <td>21919</td>\n",
       "    </tr>\n",
       "    <tr>\n",
       "      <td>1436</td>\n",
       "      <td>23</td>\n",
       "      <td>21804</td>\n",
       "    </tr>\n",
       "    <tr>\n",
       "      <td>1437</td>\n",
       "      <td>23</td>\n",
       "      <td>21734</td>\n",
       "    </tr>\n",
       "    <tr>\n",
       "      <td>1438</td>\n",
       "      <td>23</td>\n",
       "      <td>21665</td>\n",
       "    </tr>\n",
       "    <tr>\n",
       "      <td>1439</td>\n",
       "      <td>23</td>\n",
       "      <td>21658</td>\n",
       "    </tr>\n",
       "  </tbody>\n",
       "</table>\n",
       "<p>2880 rows × 2 columns</p>\n",
       "</div>"
      ],
      "text/plain": [
       "      Hour  value\n",
       "0        0  24475\n",
       "1        0  24741\n",
       "2        0  24715\n",
       "3        0  24652\n",
       "4        0  24704\n",
       "...    ...    ...\n",
       "1435    23  21919\n",
       "1436    23  21804\n",
       "1437    23  21734\n",
       "1438    23  21665\n",
       "1439    23  21658\n",
       "\n",
       "[2880 rows x 2 columns]"
      ]
     },
     "execution_count": 57,
     "metadata": {},
     "output_type": "execute_result"
    }
   ],
   "source": [
    "Hours = df3[[\"Hour\",\"value\"]]\n",
    "Hours"
   ]
  },
  {
   "cell_type": "code",
   "execution_count": 51,
   "metadata": {},
   "outputs": [
    {
     "data": {
      "text/html": [
       "<div>\n",
       "<style scoped>\n",
       "    .dataframe tbody tr th:only-of-type {\n",
       "        vertical-align: middle;\n",
       "    }\n",
       "\n",
       "    .dataframe tbody tr th {\n",
       "        vertical-align: top;\n",
       "    }\n",
       "\n",
       "    .dataframe thead th {\n",
       "        text-align: right;\n",
       "    }\n",
       "</style>\n",
       "<table border=\"1\" class=\"dataframe\">\n",
       "  <thead>\n",
       "    <tr style=\"text-align: right;\">\n",
       "      <th></th>\n",
       "      <th>VD</th>\n",
       "      <th>time of measurement</th>\n",
       "      <th>value</th>\n",
       "      <th>Hour</th>\n",
       "      <th>Day</th>\n",
       "    </tr>\n",
       "  </thead>\n",
       "  <tbody>\n",
       "    <tr>\n",
       "      <td>0</td>\n",
       "      <td>VD</td>\n",
       "      <td>2020-10-01 00:00:00</td>\n",
       "      <td>24475</td>\n",
       "      <td>0</td>\n",
       "      <td>1</td>\n",
       "    </tr>\n",
       "    <tr>\n",
       "      <td>1</td>\n",
       "      <td>VD</td>\n",
       "      <td>2020-10-01 00:05:00</td>\n",
       "      <td>24741</td>\n",
       "      <td>0</td>\n",
       "      <td>1</td>\n",
       "    </tr>\n",
       "    <tr>\n",
       "      <td>2</td>\n",
       "      <td>VD</td>\n",
       "      <td>2020-10-01 00:10:00</td>\n",
       "      <td>24715</td>\n",
       "      <td>0</td>\n",
       "      <td>1</td>\n",
       "    </tr>\n",
       "    <tr>\n",
       "      <td>3</td>\n",
       "      <td>VD</td>\n",
       "      <td>2020-10-01 00:15:00</td>\n",
       "      <td>24652</td>\n",
       "      <td>0</td>\n",
       "      <td>1</td>\n",
       "    </tr>\n",
       "    <tr>\n",
       "      <td>4</td>\n",
       "      <td>VD</td>\n",
       "      <td>2020-10-01 00:20:00</td>\n",
       "      <td>24704</td>\n",
       "      <td>0</td>\n",
       "      <td>1</td>\n",
       "    </tr>\n",
       "    <tr>\n",
       "      <td>...</td>\n",
       "      <td>...</td>\n",
       "      <td>...</td>\n",
       "      <td>...</td>\n",
       "      <td>...</td>\n",
       "      <td>...</td>\n",
       "    </tr>\n",
       "    <tr>\n",
       "      <td>1435</td>\n",
       "      <td>VD</td>\n",
       "      <td>2020-10-10 23:35:00</td>\n",
       "      <td>21919</td>\n",
       "      <td>23</td>\n",
       "      <td>10</td>\n",
       "    </tr>\n",
       "    <tr>\n",
       "      <td>1436</td>\n",
       "      <td>VD</td>\n",
       "      <td>2020-10-10 23:40:00</td>\n",
       "      <td>21804</td>\n",
       "      <td>23</td>\n",
       "      <td>10</td>\n",
       "    </tr>\n",
       "    <tr>\n",
       "      <td>1437</td>\n",
       "      <td>VD</td>\n",
       "      <td>2020-10-10 23:45:00</td>\n",
       "      <td>21734</td>\n",
       "      <td>23</td>\n",
       "      <td>10</td>\n",
       "    </tr>\n",
       "    <tr>\n",
       "      <td>1438</td>\n",
       "      <td>VD</td>\n",
       "      <td>2020-10-10 23:50:00</td>\n",
       "      <td>21665</td>\n",
       "      <td>23</td>\n",
       "      <td>10</td>\n",
       "    </tr>\n",
       "    <tr>\n",
       "      <td>1439</td>\n",
       "      <td>VD</td>\n",
       "      <td>2020-10-10 23:55:00</td>\n",
       "      <td>21658</td>\n",
       "      <td>23</td>\n",
       "      <td>10</td>\n",
       "    </tr>\n",
       "  </tbody>\n",
       "</table>\n",
       "<p>2880 rows × 5 columns</p>\n",
       "</div>"
      ],
      "text/plain": [
       "      VD time of measurement  value  Hour  Day\n",
       "0     VD 2020-10-01 00:00:00  24475     0    1\n",
       "1     VD 2020-10-01 00:05:00  24741     0    1\n",
       "2     VD 2020-10-01 00:10:00  24715     0    1\n",
       "3     VD 2020-10-01 00:15:00  24652     0    1\n",
       "4     VD 2020-10-01 00:20:00  24704     0    1\n",
       "...   ..                 ...    ...   ...  ...\n",
       "1435  VD 2020-10-10 23:35:00  21919    23   10\n",
       "1436  VD 2020-10-10 23:40:00  21804    23   10\n",
       "1437  VD 2020-10-10 23:45:00  21734    23   10\n",
       "1438  VD 2020-10-10 23:50:00  21665    23   10\n",
       "1439  VD 2020-10-10 23:55:00  21658    23   10\n",
       "\n",
       "[2880 rows x 5 columns]"
      ]
     },
     "execution_count": 51,
     "metadata": {},
     "output_type": "execute_result"
    }
   ],
   "source": [
    "day = df3.groupby([\"Day\"]).mean()\n",
    "df3"
   ]
  },
  {
   "cell_type": "code",
   "execution_count": 59,
   "metadata": {},
   "outputs": [
    {
     "data": {
      "text/html": [
       "<div>\n",
       "<style scoped>\n",
       "    .dataframe tbody tr th:only-of-type {\n",
       "        vertical-align: middle;\n",
       "    }\n",
       "\n",
       "    .dataframe tbody tr th {\n",
       "        vertical-align: top;\n",
       "    }\n",
       "\n",
       "    .dataframe thead th {\n",
       "        text-align: right;\n",
       "    }\n",
       "</style>\n",
       "<table border=\"1\" class=\"dataframe\">\n",
       "  <thead>\n",
       "    <tr style=\"text-align: right;\">\n",
       "      <th></th>\n",
       "      <th>Day</th>\n",
       "      <th>value</th>\n",
       "    </tr>\n",
       "  </thead>\n",
       "  <tbody>\n",
       "    <tr>\n",
       "      <td>0</td>\n",
       "      <td>1</td>\n",
       "      <td>24475</td>\n",
       "    </tr>\n",
       "    <tr>\n",
       "      <td>1</td>\n",
       "      <td>1</td>\n",
       "      <td>24741</td>\n",
       "    </tr>\n",
       "    <tr>\n",
       "      <td>2</td>\n",
       "      <td>1</td>\n",
       "      <td>24715</td>\n",
       "    </tr>\n",
       "    <tr>\n",
       "      <td>3</td>\n",
       "      <td>1</td>\n",
       "      <td>24652</td>\n",
       "    </tr>\n",
       "    <tr>\n",
       "      <td>4</td>\n",
       "      <td>1</td>\n",
       "      <td>24704</td>\n",
       "    </tr>\n",
       "    <tr>\n",
       "      <td>...</td>\n",
       "      <td>...</td>\n",
       "      <td>...</td>\n",
       "    </tr>\n",
       "    <tr>\n",
       "      <td>1435</td>\n",
       "      <td>10</td>\n",
       "      <td>21919</td>\n",
       "    </tr>\n",
       "    <tr>\n",
       "      <td>1436</td>\n",
       "      <td>10</td>\n",
       "      <td>21804</td>\n",
       "    </tr>\n",
       "    <tr>\n",
       "      <td>1437</td>\n",
       "      <td>10</td>\n",
       "      <td>21734</td>\n",
       "    </tr>\n",
       "    <tr>\n",
       "      <td>1438</td>\n",
       "      <td>10</td>\n",
       "      <td>21665</td>\n",
       "    </tr>\n",
       "    <tr>\n",
       "      <td>1439</td>\n",
       "      <td>10</td>\n",
       "      <td>21658</td>\n",
       "    </tr>\n",
       "  </tbody>\n",
       "</table>\n",
       "<p>2880 rows × 2 columns</p>\n",
       "</div>"
      ],
      "text/plain": [
       "      Day  value\n",
       "0       1  24475\n",
       "1       1  24741\n",
       "2       1  24715\n",
       "3       1  24652\n",
       "4       1  24704\n",
       "...   ...    ...\n",
       "1435   10  21919\n",
       "1436   10  21804\n",
       "1437   10  21734\n",
       "1438   10  21665\n",
       "1439   10  21658\n",
       "\n",
       "[2880 rows x 2 columns]"
      ]
     },
     "execution_count": 59,
     "metadata": {},
     "output_type": "execute_result"
    }
   ],
   "source": [
    "Days = df3[[\"Day\", \"value\"]]\n",
    "Days"
   ]
  },
  {
   "cell_type": "code",
   "execution_count": 60,
   "metadata": {},
   "outputs": [
    {
     "data": {
      "text/plain": [
       "<matplotlib.axes._subplots.AxesSubplot at 0x19e7482a208>"
      ]
     },
     "execution_count": 60,
     "metadata": {},
     "output_type": "execute_result"
    },
    {
     "data": {
      "image/png": "[encoded data removed]",
      "text/plain": [
       "<Figure size 576x720 with 1 Axes>"
      ]
     },
     "metadata": {},
     "output_type": "display_data"
    }
   ],
   "source": [
    "# Visualizing the average amount of energy consumption per hour over the course of 10 days. (10-01-2020 - 10-10-2020)\n",
    "# From the graph it seems that 5pm and 6pm are prime times for energy consumption\n",
    "\n",
    "ay = sns.barplot(x = \"Hour\", y = \"value\", data = df3)\n",
    "plt.rcParams[\"figure.figsize\"] = (8,10)\n",
    "ay"
   ]
  },
  {
   "cell_type": "code",
   "execution_count": 61,
   "metadata": {},
   "outputs": [
    {
     "data": {
      "text/plain": [
       "<matplotlib.axes._subplots.AxesSubplot at 0x19e748f55c8>"
      ]
     },
     "execution_count": 61,
     "metadata": {},
     "output_type": "execute_result"
    },
    {
     "data": {
      "image/png": "[encoded data removed]",
      "text/plain": [
       "<Figure size 576x720 with 1 Axes>"
      ]
     },
     "metadata": {},
     "output_type": "display_data"
    }
   ],
   "source": [
    "# Visualizing the average amount of energy consumption per day over the course of 10 days. (10-01-2020 - 10-10-2020)\n",
    "# From the graph it seems that the October 1st, 5th, and 8th were the highest energy consumed days. \n",
    "\n",
    "az = sns.barplot(x = \"Day\", y = \"value\", data = df3)\n",
    "plt.rcParams[\"figure.figsize\"] = (8,10)\n",
    "az"
   ]
  }
 ],
 "metadata": {
  "kernelspec": {
   "display_name": "Python 3",
   "language": "python",
   "name": "python3"
  },
  "language_info": {
   "codemirror_mode": {
    "name": "ipython",
    "version": 3
   },
   "file_extension": ".py",
   "mimetype": "text/x-python",
   "name": "python",
   "nbconvert_exporter": "python",
   "pygments_lexer": "ipython3",
   "version": "3.7.4"
  }
 },
 "nbformat": 4,
 "nbformat_minor": 4
}
